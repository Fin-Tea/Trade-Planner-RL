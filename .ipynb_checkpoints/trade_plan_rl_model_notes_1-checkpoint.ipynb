{
 "cells": [
  {
   "cell_type": "code",
   "execution_count": null,
   "id": "d66e7fde-9d7e-45d2-b917-00369e8d8843",
   "metadata": {},
   "outputs": [],
   "source": [
    "# How to architect this? Lol\n",
    "# 1. Some combination of Tensor Flow and Sci-kit\n",
    "# 2. Is the neural network part of it effective? Yes!\n",
    "# 3. What kind of neural network is it? Yeah it's logistic regression w/classification, but what about the in between layers?\n",
    "# 4. I believe the question is: \"What is the training data set?\" (This ties in with what Yang was saying)\n",
    "# 5. So start with the end result and work backwards \n",
    "# 6. Identify whether the input features X make sense alongside the Y vector of the training set\n",
    "# 7. Can I draw what the end goal looks like? Yes! Because I can answer the questions about my own trades!\n",
    "# I have to actually label my trades based on the criteria we came up with:\n",
    "\n",
    "# Output layer 1\n",
    "# 1. Good mood & energy to trade? (logit score => yes/no/not enough data) (for all we know some people may trade most effectively when they're in a bad mood lol)\n",
    "# 2. Good time of day to trade? (logit score => yes/no/not enough data)\n",
    "# 3. Good market conditions to trade in? (logit score => yes/no/not enough data)\n",
    "# 4. Good financial instrument to trade? (logit score => yes/no/not enough data)\n",
    "# 5. Good financial instrument conditions to trade in? (logit score => yes/no/not enough data)\n",
    "# 6. Good expected trade direction? (logit score => yes/no/not enough data)\n",
    "# 7. Good expected entry price? (logit score => yes/no, enter higher/no, enter lower, not enough data)\n",
    "# 8. Good expected exit price? (logit score => yes/no, exit higher/no, exit lower, not enough data)\n",
    "# 9. Good expected stop loss? (logit score => yes/no, stop loss higher/no, stop loss lower, not enough data)\n",
    "# 10. Good position size? (logit score => yes/no, scale down/not enough data)\n",
    "\n",
    "# Output layer 2 (Start here with Y labels and work backwards. This is actually pretty simple and won't take long)\n",
    "# 1. Has edge (67-100% logit score)\n",
    "# 2. Unknown (33-66% logit score)\n",
    "# 3. No edge (0-32% logit score)"
   ]
  }
 ],
 "metadata": {
  "kernelspec": {
   "display_name": "Python 3 (ipykernel)",
   "language": "python",
   "name": "python3"
  },
  "language_info": {
   "codemirror_mode": {
    "name": "ipython",
    "version": 3
   },
   "file_extension": ".py",
   "mimetype": "text/x-python",
   "name": "python",
   "nbconvert_exporter": "python",
   "pygments_lexer": "ipython3",
   "version": "3.9.6"
  }
 },
 "nbformat": 4,
 "nbformat_minor": 5
}

{
 "cells": [
  {
   "cell_type": "markdown",
   "id": "23b526c6-4f67-48f4-ae45-a2b05c6a10d3",
   "metadata": {},
   "source": [
    "# Trade Performance Data Processor\n",
    "\n",
    "*This script pulls in Ninja Trader Performance Data CSVs, sorts them by trade open date & trade close date, and then writes the data to a new CSV called training_data_{date_range_start}_{date_range_end}.csv*"
   ]
  },
  {
   "cell_type": "code",
   "execution_count": 1,
   "id": "5e85faad-23b1-4e22-8850-fe832e92a55a",
   "metadata": {},
   "outputs": [],
   "source": [
    "import csv\n",
    "from datetime import datetime\n",
    "import re\n",
    "from statistics import fmean\n",
    "import activators\n",
    "import warnings\n",
    "\n",
    "date_format = '%m/%d/%Y %H:%M:%S'"
   ]
  },
  {
   "cell_type": "code",
   "execution_count": 2,
   "id": "6f3f945b-973f-4966-8b5d-f924c8213422",
   "metadata": {},
   "outputs": [],
   "source": [
    "warnings.simplefilter(action='ignore', category=FutureWarning)"
   ]
  },
  {
   "cell_type": "code",
   "execution_count": 3,
   "id": "8d0d9b1d-6411-44c2-a2be-112749d673e4",
   "metadata": {},
   "outputs": [],
   "source": [
    "trades = []"
   ]
  },
  {
   "cell_type": "code",
   "execution_count": 4,
   "id": "504185f1-03e0-49b0-835e-4a6aa6c18680",
   "metadata": {},
   "outputs": [],
   "source": [
    "def unpack_trades(file_name):\n",
    "    trades = []\n",
    "    with open(file_name, newline='') as f:\n",
    "        reader = csv.DictReader(f)\n",
    "\n",
    "        for row in reader:\n",
    "            # print(row)\n",
    "            trades.append(row)\n",
    "\n",
    "    return trades\n",
    "\n",
    "def parse_date(date_str):\n",
    "    return datetime.strptime(date_str, date_format)"
   ]
  },
  {
   "cell_type": "code",
   "execution_count": 5,
   "id": "bd271d8d-3cdb-43b2-9a20-4b32fc5e7a1f",
   "metadata": {},
   "outputs": [
    {
     "data": {
      "text/plain": [
       "58"
      ]
     },
     "execution_count": 5,
     "metadata": {},
     "output_type": "execute_result"
    }
   ],
   "source": [
    "live_trades = unpack_trades(\"Ninja_Trader_Performance_Jabari_Live_10-6-2023_11-17-2023.csv\")\n",
    "\n",
    "len(live_trades)"
   ]
  },
  {
   "cell_type": "code",
   "execution_count": 6,
   "id": "b5ed0f2e-54f0-4ab4-a009-8756dfb2f61c",
   "metadata": {},
   "outputs": [
    {
     "data": {
      "text/plain": [
       "79"
      ]
     },
     "execution_count": 6,
     "metadata": {},
     "output_type": "execute_result"
    }
   ],
   "source": [
    "sim_trades = unpack_trades(\"Ninja_Trader_Performance_Jabari_Simulator_10-6-2023_11-17-2023.csv\")\n",
    "\n",
    "len(sim_trades)"
   ]
  },
  {
   "cell_type": "code",
   "execution_count": 7,
   "id": "6aba4123-cc27-489c-a62e-2c96b9f21257",
   "metadata": {},
   "outputs": [
    {
     "data": {
      "text/plain": [
       "{'symbol': 'MCLZ3',\n",
       " '_priceFormat': '-2',\n",
       " '_priceFormatType': '0',\n",
       " '_tickSize': '0.01',\n",
       " 'buyFillId': '3429478032',\n",
       " 'sellFillId': '3429478041',\n",
       " 'qty': '1',\n",
       " 'buyPrice': '88.87',\n",
       " 'sellPrice': '89.11',\n",
       " 'pnl': '$24.00',\n",
       " 'boughtTimestamp': '10/20/2023 07:46:29',\n",
       " 'soldTimestamp': '10/20/2023 07:48:34',\n",
       " 'duration': '2min 5sec'}"
      ]
     },
     "execution_count": 7,
     "metadata": {},
     "output_type": "execute_result"
    }
   ],
   "source": [
    "trades += live_trades\n",
    "trades += sim_trades\n",
    "\n",
    "len(trades)\n",
    "trades[1]"
   ]
  },
  {
   "cell_type": "code",
   "execution_count": 8,
   "id": "3648b702-4232-4d32-9eab-f427aaeba589",
   "metadata": {},
   "outputs": [
    {
     "data": {
      "text/plain": [
       "137"
      ]
     },
     "execution_count": 8,
     "metadata": {},
     "output_type": "execute_result"
    }
   ],
   "source": [
    "trades.sort(key=lambda x: parse_date(x['boughtTimestamp']) if parse_date(x['boughtTimestamp']) < parse_date(x['soldTimestamp']) else parse_date(x['soldTimestamp']))\n",
    "\n",
    "len(trades)"
   ]
  },
  {
   "cell_type": "code",
   "execution_count": 9,
   "id": "b1d679e7-f3ad-4e75-a7ec-9d9a657ee9cf",
   "metadata": {},
   "outputs": [
    {
     "data": {
      "text/plain": [
       "{'symbol': 'MESZ3',\n",
       " '_priceFormat': '-2',\n",
       " '_priceFormatType': '0',\n",
       " '_tickSize': '0.25',\n",
       " 'buyFillId': '23603390017',\n",
       " 'sellFillId': '23603390007',\n",
       " 'qty': '1',\n",
       " 'buyPrice': '4393.50',\n",
       " 'sellPrice': '4393.50',\n",
       " 'pnl': '0.00',\n",
       " 'boughtTimestamp': '10/10/2023 21:09:16',\n",
       " 'soldTimestamp': '10/10/2023 20:59:23',\n",
       " 'duration': '9min 53sec',\n",
       " 'open_datetime': datetime.datetime(2023, 10, 10, 20, 59, 23),\n",
       " 'close_datetime': datetime.datetime(2023, 10, 10, 21, 9, 16)}"
      ]
     },
     "execution_count": 9,
     "metadata": {},
     "output_type": "execute_result"
    }
   ],
   "source": [
    "#format trade pnl\n",
    "for trade in trades:\n",
    "    formatted_pnl = re.sub(r'[$),]', '',trade[\"pnl\"])\n",
    "    formatted_pnl = re.sub(r'[(]', '-',formatted_pnl)\n",
    "    trade['pnl'] = formatted_pnl\n",
    "    trade['open_datetime'] = trade_open_datetime = parse_date(trade['boughtTimestamp']) if parse_date(trade['boughtTimestamp']) < parse_date(trade['soldTimestamp']) else parse_date(trade['soldTimestamp'])\n",
    "    trade['close_datetime'] = parse_date(trade['boughtTimestamp']) if parse_date(trade['boughtTimestamp']) > parse_date(trade['soldTimestamp']) else parse_date(trade['soldTimestamp'])\n",
    "\n",
    "trades[0]"
   ]
  },
  {
   "cell_type": "code",
   "execution_count": 10,
   "id": "e14b60cd-25d4-47d6-babe-642ac3eecfd0",
   "metadata": {},
   "outputs": [
    {
     "data": {
      "text/plain": [
       "50.02564102564103"
      ]
     },
     "execution_count": 10,
     "metadata": {},
     "output_type": "execute_result"
    }
   ],
   "source": [
    "# stats\n",
    "wins = []\n",
    "\n",
    "for trade in trades:\n",
    "    pnl = float(trade['pnl'])\n",
    "    if pnl >= 0:\n",
    "        wins.append(pnl)\n",
    "\n",
    "avg_profit = fmean(wins)\n",
    "\n",
    "avg_profit\n",
    "\n",
    "# scale/normalize to pnl_per_contract / avg_profit and add as reward/punishment to the NN inputs\n",
    "# to encourage the trade planner ML model towards more profitable trades and away from more\n",
    "# loss likely trades (e.g. losing $780 on NQ, will subtract ~15points from my trade plan score\n",
    "# as punishment, which feels like a lot, but earning $400 on NQ will add back 8 points\n",
    "# so it's pretty normalized(?). not sure yet. maybe scale to points(?). Remember that pnl are effects\n",
    "# not causes so the amount of profit is not as important as the repeatability and\n",
    "# probability of profit based on causes"
   ]
  },
  {
   "cell_type": "code",
   "execution_count": 11,
   "id": "200ea43f-6eba-40e0-974f-036bd13cdb4f",
   "metadata": {},
   "outputs": [],
   "source": [
    "range_start_date = parse_date(trades[0]['boughtTimestamp']) if parse_date(trades[0]['boughtTimestamp']) < parse_date(trades[0]['soldTimestamp']) else parse_date(trades[0]['soldTimestamp'])\n",
    "\n",
    "range_start_date = range_start_date.strftime(\"%Y-%m-%d\")\n",
    "\n",
    "range_end_date = parse_date(trades[len(trades) - 1]['boughtTimestamp']) if parse_date(trades[len(trades) - 1]['boughtTimestamp']) < parse_date(trades[len(trades) - 1]['soldTimestamp']) else parse_date(trades[len(trades) - 1]['soldTimestamp'])\n",
    "\n",
    "range_end_date = range_end_date.strftime(\"%Y-%m-%d\")"
   ]
  },
  {
   "cell_type": "code",
   "execution_count": 12,
   "id": "3dc6f316-192f-4293-933b-16e97b420438",
   "metadata": {},
   "outputs": [],
   "source": [
    "instrument_qualities = activators.calc_instrument_qualities(trades)"
   ]
  },
  {
   "cell_type": "code",
   "execution_count": 13,
   "id": "610695d3-fac0-4b8f-b291-18a79027d689",
   "metadata": {},
   "outputs": [],
   "source": [
    "trades = activators.calc_instrument_condition_qualities(trades)\n",
    "trades.sort(key=lambda x: parse_date(x['boughtTimestamp']) if parse_date(x['boughtTimestamp']) < parse_date(x['soldTimestamp']) else parse_date(x['soldTimestamp']))\n",
    "#print(trades)"
   ]
  },
  {
   "cell_type": "code",
   "execution_count": 14,
   "id": "85b78447-be66-43ce-b2d8-489e382109a9",
   "metadata": {},
   "outputs": [],
   "source": [
    "trades = activators.calc_market_condition_qualities(trades)\n",
    "trades.sort(key=lambda x: parse_date(x['boughtTimestamp']) if parse_date(x['boughtTimestamp']) < parse_date(x['soldTimestamp']) else parse_date(x['soldTimestamp']))\n",
    "#print(trades)"
   ]
  },
  {
   "cell_type": "code",
   "execution_count": 15,
   "id": "5d96a646-a6ee-4c20-95b7-f9b00074fb8d",
   "metadata": {},
   "outputs": [
    {
     "name": "stdout",
     "output_type": "stream",
     "text": [
      "['9-10']\n",
      "['8-9', '12-13']\n",
      "['8-9']\n",
      "['9-10', '8-9']\n",
      "['9-10']\n",
      "['8-9']\n"
     ]
    }
   ],
   "source": [
    "trades = activators.calc_time_of_day_qualities(trades)\n",
    "trades.sort(key=lambda x: parse_date(x['boughtTimestamp']) if parse_date(x['boughtTimestamp']) < parse_date(x['soldTimestamp']) else parse_date(x['soldTimestamp']))\n",
    "#print(trades)"
   ]
  },
  {
   "cell_type": "code",
   "execution_count": 16,
   "id": "d4452fbc-55df-4e91-9e59-ccba1e201b45",
   "metadata": {},
   "outputs": [
    {
     "name": "stdout",
     "output_type": "stream",
     "text": [
      "1.15\n",
      "1.0\n",
      "1.1\n",
      "2.0\n",
      "1.0\n",
      "3.5\n"
     ]
    }
   ],
   "source": [
    "trades = activators.calc_position_size_qualities(trades)\n",
    "trades.sort(key=lambda x: parse_date(x['boughtTimestamp']) if parse_date(x['boughtTimestamp']) < parse_date(x['soldTimestamp']) else parse_date(x['soldTimestamp']))\n",
    "#print(trades)"
   ]
  },
  {
   "cell_type": "code",
   "execution_count": 17,
   "id": "114b7bcd-6ed7-4da9-b77f-3b7f0f7aba14",
   "metadata": {},
   "outputs": [],
   "source": [
    "trades = activators.calc_profitability_qualities(trades)"
   ]
  },
  {
   "cell_type": "code",
   "execution_count": 19,
   "id": "aa6b17b1-e0c9-4c8d-965f-7f602b757dfc",
   "metadata": {},
   "outputs": [],
   "source": [
    "file_name = f\"training_data_{range_start_date}_{range_end_date}.txt\"\n",
    "\n",
    "with open(file_name, 'w', newline='') as csvfile:\n",
    "    # add \"Is_Would_Have_Been_Profitable\" to V1 after trade plan structure is in place\n",
    "    fieldnames = [\"Trade_Id\",\"Symbol\",\"Trade_Open_Datetime\",\"Trade_Close_Datetime\",\"Trade_Quantity\",\"Trade_Direction\",\"Trade_Open_Price\",\"Trade_Close_Price\",\"Trade_PnL\", \"Is_Good_Mood\",\"Is_Good_Energy\",\"Is_Revenge_Trade\",\"Has_Trade_Plan\", \"Is_Automated_Trade_Mgmt\", \"Is_Alert_Based\", \"Is_Good_Trade_Setup\",\"Has_Confirmations\",\"Has_Good_Confirmations\",\"Has_Good_Risk_Reward_Ratio\",\"Is_Profitable_Trade\",\"Has_Followed_Plan_Completely\",\"Has_Followed_Plan_Partially\",\"Has_Exited_Early\",\"Has_Stopped_Out_Late\",\"Has_Not_Followed_Plan_At_All\",\"Is_Good_Time_Of_Day_To_Trade\",\"Is_Good_Market_Conditions\",\"Is_Good_Instrument_Conditions\",\"Is_Good_Financial_Instrument\",\"Is_Okay_Financial_Instrument\",\"Is_Bad_Financial_Instrument\",\"Is_Good_Position_Size\",\"Label_Is_High_Prob_Trade\",\"Label_Is_Med_Prob_Trade\",\"Label_Is_Low_Prob_Trade\"]\n",
    "    writer = csv.DictWriter(csvfile, fieldnames=fieldnames)\n",
    "\n",
    "    writer.writeheader()\n",
    "    \n",
    "    for i, trade in enumerate(trades):\n",
    "        trade_open_datetime = trade['open_datetime'].isoformat()\n",
    "        trade_close_datetime = trade['close_datetime'].isoformat()\n",
    "\n",
    "        trade_direction = \"Long\"\n",
    "        open_price = trade[\"buyPrice\"]\n",
    "        close_price = trade[\"sellPrice\"]\n",
    "\n",
    "        if float(trade['pnl']) < 0:\n",
    "            if float(trade[\"buyPrice\"]) > float(trade[\"sellPrice\"]):\n",
    "                trade_direction = \"Short\"\n",
    "                open_price = trade[\"sellPrice\"]\n",
    "                close_price = trade[\"buyPrice\"]\n",
    "        else:\n",
    "            if float(trade[\"buyPrice\"]) < float(trade[\"sellPrice\"]):\n",
    "                trade_direction = \"Short\"\n",
    "                open_price = trade[\"sellPrice\"]\n",
    "                close_price = trade[\"buyPrice\"]\n",
    "\n",
    "        market_conditions_quality = trade['market_conditions_quality']\n",
    "        instrument_quality = instrument_qualities[trade['symbol']]\n",
    "        instrument_conditions_quality = trade['instrument_conditions_quality']\n",
    "        time_of_day_quality = trade['time_of_day_quality']\n",
    "        position_size_quality = trade['position_size_quality']\n",
    "        profitability_quality = trade['profitability_quality']\n",
    "\n",
    "        is_good_financial_instrument = 1 if instrument_quality == activators.QualityType.HIGH else 0\n",
    "        is_okay_financial_instrument = 1 if instrument_quality == activators.QualityType.MED else 0\n",
    "        is_bad_financial_instrument = 1 if instrument_quality == activators.QualityType.LOW else 0\n",
    "\n",
    "        is_good_market_conditions = 1 if market_conditions_quality == activators.QualityType.HIGH else 0\n",
    "        is_good_instrument_conditions = 1 if instrument_conditions_quality == activators.QualityType.HIGH else 0\n",
    "        is_good_time_of_day_to_trade = 1 if time_of_day_quality == activators.QualityType.HIGH else 0\n",
    "        is_good_position_size_quality = 1 if position_size_quality == activators.QualityType.HIGH else 0\n",
    "        is_profitable_trade = 2 if profitability_quality == activators.QualityType.HIGH else -1\n",
    "        \n",
    "\n",
    "        datarow = {\n",
    "                    \"Trade_Id\": i + 1, \n",
    "                    \"Symbol\": trade['symbol'], \n",
    "                    \"Trade_Open_Datetime\": trade_open_datetime, \n",
    "                    \"Trade_Close_Datetime\": trade_close_datetime, \n",
    "                    \"Trade_Quantity\": trade['qty'], \n",
    "                    \"Trade_Direction\": trade_direction, \n",
    "                    \"Trade_Open_Price\" : open_price, \n",
    "                    \"Trade_Close_Price\": close_price, \n",
    "                    \"Trade_PnL\": trade['pnl'],\n",
    "                    \"Is_Good_Financial_Instrument\": is_good_financial_instrument,\n",
    "                    \"Is_Okay_Financial_Instrument\": is_okay_financial_instrument,\n",
    "                    \"Is_Bad_Financial_Instrument\": is_bad_financial_instrument,\n",
    "                    \"Is_Good_Instrument_Conditions\": is_good_instrument_conditions,\n",
    "                    \"Is_Good_Time_Of_Day_To_Trade\": is_good_time_of_day_to_trade,\n",
    "                    \"Is_Good_Market_Conditions\": is_good_market_conditions,\n",
    "                    \"Is_Good_Position_Size\": is_good_position_size_quality,\n",
    "                    \"Is_Profitable_Trade\": is_profitable_trade,\n",
    "                    \"Is_Good_Trade_Setup\": 0, # missing data\n",
    "                    \"Has_Confirmations\": 0, # missing data\n",
    "                    \"Has_Good_Confirmations\": 0, # missing data\n",
    "                    \"Has_Good_Risk_Reward_Ratio\": 0, # missing data\n",
    "                    \"Is_Good_Mood\": 1, # mark as 1 as default to make data editing easy\n",
    "                    \"Is_Good_Energy\": 1,  # mark as 1 as default to make data editing easy\n",
    "                    \"Is_Revenge_Trade\": -1, # mark as 0 as default to make data editing easy\n",
    "                    \"Is_Automated_Trade_Mgmt\": 0, # mark as 0 as default to make data editing easy\n",
    "                    \"Is_Alert_Based\": 0, # mark as 0 as default to make data editing easy\n",
    "                    \"Has_Trade_Plan\": 0, # mark as 0 as default to make data editing easy\n",
    "                    \"Has_Followed_Plan_Completely\": 0, # mark as 0 as default to make data editing easy\n",
    "                    \"Has_Followed_Plan_Partially\": 0, # mark as 0 as default to make data editing easy\n",
    "                    \"Has_Exited_Early\": 0, # mark as 0 as default to make data editing easy\n",
    "                    \"Has_Stopped_Out_Late\": 0, # mark as 0 as default to make data editing easy\n",
    "                    \"Has_Not_Followed_Plan_At_All\": 0, # mark as 0 as default to make data editing easy\n",
    "                    }\n",
    "            \n",
    "        writer.writerow(datarow)\n",
    "        "
   ]
  },
  {
   "cell_type": "code",
   "execution_count": null,
   "id": "3f2e1117-41c8-468f-9584-ad0208a98ef7",
   "metadata": {},
   "outputs": [],
   "source": []
  },
  {
   "cell_type": "code",
   "execution_count": null,
   "id": "e77a0cad-1547-4d31-aa3b-50409731d7d3",
   "metadata": {},
   "outputs": [],
   "source": []
  }
 ],
 "metadata": {
  "kernelspec": {
   "display_name": "Python 3 (ipykernel)",
   "language": "python",
   "name": "python3"
  },
  "language_info": {
   "codemirror_mode": {
    "name": "ipython",
    "version": 3
   },
   "file_extension": ".py",
   "mimetype": "text/x-python",
   "name": "python",
   "nbconvert_exporter": "python",
   "pygments_lexer": "ipython3",
   "version": "3.9.6"
  }
 },
 "nbformat": 4,
 "nbformat_minor": 5
}

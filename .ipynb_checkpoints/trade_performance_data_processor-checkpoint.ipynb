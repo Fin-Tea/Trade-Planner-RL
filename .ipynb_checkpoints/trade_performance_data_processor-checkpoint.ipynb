{
 "cells": [
  {
   "cell_type": "markdown",
   "id": "23b526c6-4f67-48f4-ae45-a2b05c6a10d3",
   "metadata": {},
   "source": [
    "# Trade Performance Data Processor\n",
    "\n",
    "*This script pulls in Ninja Trader Performance Data CSVs, sorts them by trade open date & trade close date, and then writes the data to a new CSV called training_data_{date_range_start}_{date_range_end}.csv*"
   ]
  },
  {
   "cell_type": "code",
   "execution_count": 70,
   "id": "5e85faad-23b1-4e22-8850-fe832e92a55a",
   "metadata": {},
   "outputs": [],
   "source": [
    "import csv\n",
    "from datetime import datetime\n",
    "\n",
    "date_format = '%m/%d/%Y %H:%M:%S'"
   ]
  },
  {
   "cell_type": "code",
   "execution_count": 71,
   "id": "8d0d9b1d-6411-44c2-a2be-112749d673e4",
   "metadata": {},
   "outputs": [],
   "source": [
    "trades = []"
   ]
  },
  {
   "cell_type": "code",
   "execution_count": 72,
   "id": "504185f1-03e0-49b0-835e-4a6aa6c18680",
   "metadata": {},
   "outputs": [],
   "source": [
    "def unpack_trades(file_name):\n",
    "    trades = []\n",
    "    with open(file_name, newline='') as f:\n",
    "        reader = csv.DictReader(f)\n",
    "\n",
    "        for row in reader:\n",
    "            # print(row)\n",
    "            trades.append(row)\n",
    "\n",
    "    return trades\n",
    "\n",
    "def parse_date(date_str):\n",
    "    return datetime.strptime(date_str, date_format)"
   ]
  },
  {
   "cell_type": "code",
   "execution_count": 73,
   "id": "bd271d8d-3cdb-43b2-9a20-4b32fc5e7a1f",
   "metadata": {},
   "outputs": [
    {
     "data": {
      "text/plain": [
       "58"
      ]
     },
     "execution_count": 73,
     "metadata": {},
     "output_type": "execute_result"
    }
   ],
   "source": [
    "live_trades = unpack_trades(\"Ninja_Trader_Performance_Jabari_Live_10-6-2023_11-17-2023.csv\")\n",
    "\n",
    "len(live_trades)"
   ]
  },
  {
   "cell_type": "code",
   "execution_count": 74,
   "id": "b5ed0f2e-54f0-4ab4-a009-8756dfb2f61c",
   "metadata": {},
   "outputs": [
    {
     "data": {
      "text/plain": [
       "79"
      ]
     },
     "execution_count": 74,
     "metadata": {},
     "output_type": "execute_result"
    }
   ],
   "source": [
    "sim_trades = unpack_trades(\"Ninja_Trader_Performance_Jabari_Simulator_10-6-2023_11-17-2023.csv\")\n",
    "\n",
    "len(sim_trades)"
   ]
  },
  {
   "cell_type": "code",
   "execution_count": 75,
   "id": "6aba4123-cc27-489c-a62e-2c96b9f21257",
   "metadata": {},
   "outputs": [
    {
     "data": {
      "text/plain": [
       "{'symbol': 'MCLZ3',\n",
       " '_priceFormat': '-2',\n",
       " '_priceFormatType': '0',\n",
       " '_tickSize': '0.01',\n",
       " 'buyFillId': '3429478032',\n",
       " 'sellFillId': '3429478041',\n",
       " 'qty': '1',\n",
       " 'buyPrice': '88.87',\n",
       " 'sellPrice': '89.11',\n",
       " 'pnl': '$24.00',\n",
       " 'boughtTimestamp': '10/20/2023 07:46:29',\n",
       " 'soldTimestamp': '10/20/2023 07:48:34',\n",
       " 'duration': '2min 5sec'}"
      ]
     },
     "execution_count": 75,
     "metadata": {},
     "output_type": "execute_result"
    }
   ],
   "source": [
    "trades += live_trades\n",
    "trades += sim_trades\n",
    "\n",
    "len(trades)\n",
    "trades[1]"
   ]
  },
  {
   "cell_type": "code",
   "execution_count": 76,
   "id": "3648b702-4232-4d32-9eab-f427aaeba589",
   "metadata": {},
   "outputs": [
    {
     "data": {
      "text/plain": [
       "137"
      ]
     },
     "execution_count": 76,
     "metadata": {},
     "output_type": "execute_result"
    }
   ],
   "source": [
    "trades.sort(key=lambda x: parse_date(x['boughtTimestamp']) if parse_date(x['boughtTimestamp']) < parse_date(x['soldTimestamp']) else parse_date(x['soldTimestamp']))\n",
    "\n",
    "len(trades)"
   ]
  },
  {
   "cell_type": "code",
   "execution_count": 78,
   "id": "200ea43f-6eba-40e0-974f-036bd13cdb4f",
   "metadata": {},
   "outputs": [
    {
     "data": {
      "text/plain": [
       "datetime.datetime(2023, 11, 17, 9, 51, 51)"
      ]
     },
     "execution_count": 78,
     "metadata": {},
     "output_type": "execute_result"
    }
   ],
   "source": [
    "range_start_date = parse_date(trades[0]['boughtTimestamp']) if parse_date(trades[0]['boughtTimestamp']) < parse_date(trades[0]['soldTimestamp']) else parse_date(trades[0]['soldTimestamp'])\n",
    "\n",
    "range_start_date = range_start_date.strftime(\"%Y-%m-%d\")\n",
    "\n",
    "range_end_date = parse_date(trades[len(trades) - 1]['boughtTimestamp']) if parse_date(trades[len(trades) - 1]['boughtTimestamp']) < parse_date(trades[len(trades) - 1]['soldTimestamp']) else parse_date(trades[len(trades) - 1]['soldTimestamp'])\n",
    "\n",
    "range_end_date = range_end_date.strftime(\"%Y-%m-%d\")"
   ]
  },
  {
   "cell_type": "code",
   "execution_count": 84,
   "id": "aa6b17b1-e0c9-4c8d-965f-7f602b757dfc",
   "metadata": {},
   "outputs": [],
   "source": [
    "file_name = f\"training_data_{range_start_date}_{range_end_date}.txt\"\n",
    "\n",
    "with open(file_name, 'w', newline='') as csvfile:\n",
    "    fieldnames = [\"Trade_Id\",\"Trade_Instrument\",\"Trade_Open_Datetime\",\"Trade_Close_Datetime\",\"Trade_Quantity\",\"Trade_Direction\",\"Trade_Open_Price\",\"Trade_Close_Price\",\"Trade_PnL\", \"Is_Good_Mood\",\"Is_Good_Energy\", \"Has_Trade_Plan\",\"Is_Good_Trade_Setup\",\"Has_Confirmations\",\"Has_Good_Confirmations\",\"Has_Good_Risk_Reward_Ratio\",\"Has_Executed_Trade\",\"Is_Profitable_Trade\",\"Has_Followed_Plan_Completely\",\"Has_Followed_Plan_Partially\",\"Has_Exited_Early\",\"Has_Stopped_Out_Late\",\"Has_Not_Followed_Plan_At_All\",\"Is_Good_Time_Of_Day_To_Trade\",\"Is_Good_Market_Conditions\",\"Is_Good_Instrument_Conditions\",\"Is_Good_Financial_Instrument\",\"Is_Okay_Financial_Instrument\",\"Is_Bad_Financial_Instrument\",\"Is_Good_Position_Size\",\"Is_Good_Trade_Direction\",\"Is_Would_Have_Been_Profitable\",\"Action_Label\"]\n",
    "    writer = csv.DictWriter(csvfile, fieldnames=fieldnames)\n",
    "\n",
    "    writer.writeheader()\n",
    "    \n",
    "    for i, trade in enumerate(trades):\n",
    "        trade_open_datetime = parse_date(trade['boughtTimestamp']) if parse_date(trade['boughtTimestamp']) < parse_date(trade['soldTimestamp']) else parse_date(trade['soldTimestamp'])\n",
    "\n",
    "        trade_open_datetime = trade_open_datetime.isoformat()\n",
    "\n",
    "        trade_close_datetime = parse_date(trade['boughtTimestamp']) if parse_date(trade['boughtTimestamp']) > parse_date(trade['soldTimestamp']) else parse_date(trade['soldTimestamp'])\n",
    "\n",
    "        trade_close_datetime = trade_close_datetime.isoformat()\n",
    "\n",
    "        trade_direction = \"Long\"\n",
    "        open_price = trade[\"buyPrice\"]\n",
    "        close_price = trade[\"sellPrice\"]\n",
    "\n",
    "        if \"(\" in trade['pnl']:\n",
    "            if float(trade[\"buyPrice\"]) > float(trade[\"sellPrice\"]):\n",
    "                trade_direction = \"Short\"\n",
    "                open_price = trade[\"sellPrice\"]\n",
    "                close_price = trade[\"buyPrice\"]\n",
    "        else:\n",
    "            if float(trade[\"buyPrice\"]) < float(trade[\"sellPrice\"]):\n",
    "                trade_direction = \"Short\"\n",
    "                open_price = trade[\"sellPrice\"]\n",
    "                close_price = trade[\"buyPrice\"]\n",
    "            \n",
    "        writer.writerow({\"Trade_Id\": i + 1, \"Trade_Instrument\": trade['symbol'], \"Trade_Open_Datetime\": trade_open_datetime, \"Trade_Close_Datetime\": trade_close_datetime, \"Trade_Quantity\": trade['qty'], \"Trade_Direction\": trade_direction, \"Trade_Open_Price\" : open_price, \"Trade_Close_Price\": close_price, \"Trade_PnL\": trade['pnl']})\n",
    "        "
   ]
  },
  {
   "cell_type": "code",
   "execution_count": null,
   "id": "3f2e1117-41c8-468f-9584-ad0208a98ef7",
   "metadata": {},
   "outputs": [],
   "source": []
  }
 ],
 "metadata": {
  "kernelspec": {
   "display_name": "Python 3 (ipykernel)",
   "language": "python",
   "name": "python3"
  },
  "language_info": {
   "codemirror_mode": {
    "name": "ipython",
    "version": 3
   },
   "file_extension": ".py",
   "mimetype": "text/x-python",
   "name": "python",
   "nbconvert_exporter": "python",
   "pygments_lexer": "ipython3",
   "version": "3.9.6"
  }
 },
 "nbformat": 4,
 "nbformat_minor": 5
}

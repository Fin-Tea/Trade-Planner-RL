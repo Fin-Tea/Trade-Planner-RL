{
 "cells": [
  {
   "cell_type": "code",
   "execution_count": null,
   "id": "68cc1eaa-0982-4571-9fad-508f41863ee5",
   "metadata": {},
   "outputs": [],
   "source": [
    "# pull in the training set data\n",
    "# remove any duplicates in the data\n",
    "# split the data into 75% training, 25% test \n",
    "# parse the data into inputs and label arrays\n",
    "# define the classification neural network (softmax is fine to start with)\n",
    "# train the neural network (model.fit)\n",
    "# test the neural network for accuracy on both the training & test data sets\n",
    "# iterate on the neural network to achieve 80%+ accuracy \n",
    "#(if more data is needed then determine how much more data is needed)\n",
    "# do another test with my most recent trading data and compare results\n",
    "\n",
    "# then productionize it (should just be an api called check_trading_plan\n",
    "# or grade_trading_plan) (remember that neural networks are easy to share\n",
    "# after the weights & biases are generated)"
   ]
  },
  {
   "cell_type": "code",
   "execution_count": 8,
   "id": "c55f813e-7422-4e39-928c-11a441a8ced7",
   "metadata": {},
   "outputs": [
    {
     "name": "stderr",
     "output_type": "stream",
     "text": [
      "2023-12-22 21:53:24.141553: I tensorflow/core/platform/cpu_feature_guard.cc:182] This TensorFlow binary is optimized to use available CPU instructions in performance-critical operations.\n",
      "To enable the following instructions: AVX2 FMA, in other operations, rebuild TensorFlow with the appropriate compiler flags.\n",
      "/Users/jabariholloway/Library/Python/3.9/lib/python/site-packages/urllib3/__init__.py:34: NotOpenSSLWarning: urllib3 v2 only supports OpenSSL 1.1.1+, currently the 'ssl' module is compiled with 'LibreSSL 2.8.3'. See: https://github.com/urllib3/urllib3/issues/3020\n",
      "  warnings.warn(\n"
     ]
    }
   ],
   "source": [
    "import csv\n",
    "import tensorflow as tf\n",
    "import numpy as np\n",
    "from sklearn.model_selection import train_test_split\n",
    "from enum import Enum\n"
   ]
  },
  {
   "cell_type": "code",
   "execution_count": 35,
   "id": "570e4233-3140-4f80-893e-fdfa6269b02d",
   "metadata": {},
   "outputs": [],
   "source": [
    "class ClassLabel(Enum):\n",
    "    HIGH_PROBABILITY = 2\n",
    "    MED_PROBABILITY = 1\n",
    "    LOW_PROBABILITY = 0"
   ]
  },
  {
   "cell_type": "code",
   "execution_count": 36,
   "id": "aceed784-fa32-4789-b162-507f087f8384",
   "metadata": {},
   "outputs": [],
   "source": [
    "def unpack_training_data(file_name):\n",
    "    training_data = []\n",
    "    with open(file_name, newline='') as f:\n",
    "        reader = csv.DictReader(f)\n",
    "\n",
    "        for row in reader:\n",
    "            training_data.append(row)\n",
    "\n",
    "    # remove duplicates\n",
    "    for i, datum in enumerate(training_data):\n",
    "        j = i + 1\n",
    "        if j < len(training_data) - 1:\n",
    "            key1 = f\"{datum['Symbol']}-{datum['Trade_Open_Datetime']}-{datum['Trade_Close_Datetime']}-{datum['Trade_PnL']}\"\n",
    "\n",
    "            datum2 = training_data[j]\n",
    "            key2 = f\"{datum2['Symbol']}-{datum2['Trade_Open_Datetime']}-{datum2['Trade_Close_Datetime']}-{datum2['Trade_PnL']}\"\n",
    "\n",
    "            if key1 == key2:\n",
    "                datum2['duplicate'] = True\n",
    "\n",
    "    training_data = [datum for datum in training_data if not datum.get('duplicate')]\n",
    "\n",
    "    for datum in training_data:\n",
    "        for key in datum.keys():\n",
    "            if key.startswith(\"Is\") or key.startswith(\"Label\"):\n",
    "                datum[key] = int(datum[key])\n",
    "\n",
    "    return training_data"
   ]
  },
  {
   "cell_type": "code",
   "execution_count": 37,
   "id": "c96b7f93-45e9-4cd6-a977-5b000753616d",
   "metadata": {},
   "outputs": [
    {
     "name": "stdout",
     "output_type": "stream",
     "text": [
      "{'Trade_Id': '1', 'Symbol': 'MESZ3', 'Trade_Open_Datetime': '2023-10-10T20:59:23', 'Trade_Close_Datetime': '2023-10-10T21:09:16', 'Trade_Quantity': '1', 'Trade_Direction': 'Long', 'Trade_Open_Price': '4393.50', 'Trade_Close_Price': '4393.50', 'Trade_PnL': '0.00', 'Is_Good_Mood': 1, 'Is_Good_Energy': 1, 'Is_Revenge_Trade': 0, 'Has_Trade_Plan': '0', 'Is_Automated_Trade_Mgmt': 0, 'Is_Alert_Based': 0, 'Is_Good_Trade_Setup': 0, 'Has_Confirmations': '0', 'Has_Good_Confirmations': '0', 'Has_Good_Risk_Reward_Ratio': '0', 'Is_Profitable_Trade': 2, 'Has_Followed_Plan_Completely': '0', 'Has_Followed_Plan_Partially': '0', 'Has_Exited_Early': '0', 'Has_Stopped_Out_Late': '0', 'Has_Not_Followed_Plan_At_All': '0', 'Is_Good_Time_Of_Day_To_Trade': 0, 'Is_Good_Market_Conditions': 0, 'Is_Good_Instrument_Conditions': 0, 'Is_Good_Financial_Instrument': 0, 'Is_Okay_Financial_Instrument': 1, 'Is_Bad_Financial_Instrument': 0, 'Is_Good_Position_Size': 1, 'Label_Is_High_Prob_Trade': 0, 'Label_Is_Med_Prob_Trade': 0, 'Label_Is_Low_Prob_Trade': 1}\n",
      "{'Trade_Id': '137', 'Symbol': 'NGZ3', 'Trade_Open_Datetime': '2023-11-17T09:51:51', 'Trade_Close_Datetime': '2023-11-17T10:05:48', 'Trade_Quantity': '1', 'Trade_Direction': 'Short', 'Trade_Open_Price': '2.925', 'Trade_Close_Price': '2.934', 'Trade_PnL': '-90.00', 'Is_Good_Mood': 0, 'Is_Good_Energy': 1, 'Is_Revenge_Trade': -1, 'Has_Trade_Plan': '1', 'Is_Automated_Trade_Mgmt': 0, 'Is_Alert_Based': 0, 'Is_Good_Trade_Setup': 0, 'Has_Confirmations': '0', 'Has_Good_Confirmations': '0', 'Has_Good_Risk_Reward_Ratio': '0', 'Is_Profitable_Trade': -1, 'Has_Followed_Plan_Completely': '0', 'Has_Followed_Plan_Partially': '1', 'Has_Exited_Early': '0', 'Has_Stopped_Out_Late': '1', 'Has_Not_Followed_Plan_At_All': '0', 'Is_Good_Time_Of_Day_To_Trade': 1, 'Is_Good_Market_Conditions': 0, 'Is_Good_Instrument_Conditions': 0, 'Is_Good_Financial_Instrument': 0, 'Is_Okay_Financial_Instrument': 1, 'Is_Bad_Financial_Instrument': 0, 'Is_Good_Position_Size': 1, 'Label_Is_High_Prob_Trade': 0, 'Label_Is_Med_Prob_Trade': 0, 'Label_Is_Low_Prob_Trade': 1}\n"
     ]
    }
   ],
   "source": [
    "raw_training_data = unpack_training_data(\"training_data_2023-10-10_2023-11-17_complete.txt\")\n",
    "print(raw_training_data[0])\n",
    "print(raw_training_data[len(raw_training_data) - 1])\n",
    "# for datum in raw_training_data:\n",
    "#     print(len(datum.values()))"
   ]
  },
  {
   "cell_type": "code",
   "execution_count": 38,
   "id": "8fc20bbd-1339-40f4-a66b-1c75ccec1f05",
   "metadata": {},
   "outputs": [
    {
     "name": "stdout",
     "output_type": "stream",
     "text": [
      "136\n",
      "14\n",
      "136\n",
      "[0, 0, 0, 0, 0, 0, 1, 1, 2, 0, 0, 1, 1, 0, 1, 0, 0, 0, 0, 1, 1, 0, 0, 0, 0, 1, 1, 1, 0, 0, 0, 1, 1, 0, 0, 1, 0, 0, 0, 2, 1, 1, 0, 0, 0, 0, 0, 0, 0, 0, 1, 1, 0, 0, 0, 0, 0, 0, 0, 0, 0, 0, 2, 2, 2, 2, 2, 0, 0, 2, 2, 1, 0, 0, 0, 0, 0, 0, 1, 0, 0, 0, 0, 0, 2, 0, 0, 0, 1, 0, 2, 0, 0, 0, 0, 0, 2, 1, 0, 0, 1, 0, 0, 0, 1, 1, 0, 1, 0, 2, 0, 0, 1, 1, 0, 1, 2, 0, 0, 2, 0, 2, 0, 1, 1, 1, 1, 1, 1, 0, 1, 1, 1, 0, 0, 0]\n"
     ]
    }
   ],
   "source": [
    "# Create inputs & labels\n",
    "X = []\n",
    "y = []\n",
    "\n",
    "for datum in raw_training_data:\n",
    "    X_row = []\n",
    "    for key in datum.keys():\n",
    "        if key.startswith(\"Is\"):\n",
    "            X_row.append(datum[key])\n",
    "\n",
    "        if key.startswith(\"Label\"):\n",
    "            if key == 'Label_Is_High_Prob_Trade' and datum[key] == 1:\n",
    "                y.append(ClassLabel.HIGH_PROBABILITY.value)\n",
    "            elif key == 'Label_Is_Med_Prob_Trade' and datum[key] == 1:\n",
    "                y.append(ClassLabel.MED_PROBABILITY.value)\n",
    "            elif key == 'Label_Is_Low_Prob_Trade' and datum[key] == 1:\n",
    "                y.append(ClassLabel.LOW_PROBABILITY.value)\n",
    "\n",
    "    X.append(X_row)\n",
    "            \n",
    "\n",
    "print(len(X))\n",
    "# columns = X[0]\n",
    "print(len(X[0]))\n",
    "print(len(y))\n",
    "print(y)"
   ]
  },
  {
   "cell_type": "code",
   "execution_count": 39,
   "id": "bbfd1458-4c85-4402-b553-4fa22483a605",
   "metadata": {},
   "outputs": [
    {
     "name": "stdout",
     "output_type": "stream",
     "text": [
      "[1, 1, 0, 0, 0, 0, 2, 0, 0, 0, 0, 1, 0, 1]\n",
      "0\n"
     ]
    }
   ],
   "source": [
    "# Split data into traing & test sets\n",
    "X_train, X_test, y_train, y_test = train_test_split(X, y, test_size=0.25, random_state=42)\n",
    "\n",
    "print(X_train[0])\n",
    "print(y_train[0])"
   ]
  },
  {
   "cell_type": "code",
   "execution_count": 40,
   "id": "91fd9e5f-686e-434e-9c8a-f8b0e65fa018",
   "metadata": {},
   "outputs": [],
   "source": [
    "# Define Neural Network\n",
    "\n",
    "model = tf.keras.Sequential([\n",
    "    tf.keras.layers.Input(shape=(14,)),\n",
    "    tf.keras.layers.Dense(128, activation='relu'),\n",
    "    tf.keras.layers.Dense(3, activation='softmax')\n",
    "])"
   ]
  },
  {
   "cell_type": "code",
   "execution_count": 41,
   "id": "70f4e4cc-71e6-4123-8c25-3bf389f34db1",
   "metadata": {},
   "outputs": [],
   "source": [
    "# Compile Neural Network\n",
    "\n",
    "model.compile(optimizer='adam',\n",
    "              loss=tf.keras.losses.SparseCategoricalCrossentropy(from_logits=True),\n",
    "              metrics=['accuracy'])"
   ]
  },
  {
   "cell_type": "code",
   "execution_count": 42,
   "id": "0da0a616-8ba4-4c32-a412-9e19db5e332e",
   "metadata": {},
   "outputs": [
    {
     "name": "stdout",
     "output_type": "stream",
     "text": [
      "Epoch 1/10\n",
      "4/4 [==============================] - 0s 7ms/step - loss: 1.0000 - accuracy: 0.6078\n",
      "Epoch 2/10\n",
      "4/4 [==============================] - 0s 3ms/step - loss: 0.9303 - accuracy: 0.6373\n",
      "Epoch 3/10\n",
      "4/4 [==============================] - 0s 2ms/step - loss: 0.8780 - accuracy: 0.6667\n",
      "Epoch 4/10\n",
      "4/4 [==============================] - 0s 2ms/step - loss: 0.8408 - accuracy: 0.6667\n",
      "Epoch 5/10\n",
      "4/4 [==============================] - 0s 4ms/step - loss: 0.8116 - accuracy: 0.6667\n",
      "Epoch 6/10\n",
      "4/4 [==============================] - 0s 3ms/step - loss: 0.7950 - accuracy: 0.6667\n",
      "Epoch 7/10\n",
      "4/4 [==============================] - 0s 2ms/step - loss: 0.7829 - accuracy: 0.6667\n",
      "Epoch 8/10\n",
      "4/4 [==============================] - 0s 3ms/step - loss: 0.7710 - accuracy: 0.6667\n",
      "Epoch 9/10\n",
      "4/4 [==============================] - 0s 2ms/step - loss: 0.7624 - accuracy: 0.6667\n",
      "Epoch 10/10\n",
      "4/4 [==============================] - 0s 2ms/step - loss: 0.7526 - accuracy: 0.6569\n"
     ]
    },
    {
     "data": {
      "text/plain": [
       "<keras.src.callbacks.History at 0x137970790>"
      ]
     },
     "execution_count": 42,
     "metadata": {},
     "output_type": "execute_result"
    }
   ],
   "source": [
    "# Train Model\n",
    "\n",
    "model.fit(X_train, y_train, epochs=10)"
   ]
  },
  {
   "cell_type": "code",
   "execution_count": 43,
   "id": "34a4f1a2-235b-4171-9a20-60849b9306e5",
   "metadata": {},
   "outputs": [
    {
     "name": "stdout",
     "output_type": "stream",
     "text": [
      "2/2 - 0s - loss: 0.9578 - accuracy: 0.4706 - 150ms/epoch - 75ms/step\n",
      "Test accuracy: 0.47058823704719543\n"
     ]
    }
   ],
   "source": [
    "# Evaluate accuracy\n",
    "\n",
    "test_loss, test_acc = model.evaluate(X_test,  y_test, verbose=2)\n",
    "\n",
    "print('Test accuracy:', test_acc)"
   ]
  },
  {
   "cell_type": "code",
   "execution_count": null,
   "id": "3b9d9ed9-1159-43ca-993e-88d56dba835a",
   "metadata": {},
   "outputs": [],
   "source": []
  }
 ],
 "metadata": {
  "kernelspec": {
   "display_name": "Python 3 (ipykernel)",
   "language": "python",
   "name": "python3"
  },
  "language_info": {
   "codemirror_mode": {
    "name": "ipython",
    "version": 3
   },
   "file_extension": ".py",
   "mimetype": "text/x-python",
   "name": "python",
   "nbconvert_exporter": "python",
   "pygments_lexer": "ipython3",
   "version": "3.9.6"
  }
 },
 "nbformat": 4,
 "nbformat_minor": 5
}
